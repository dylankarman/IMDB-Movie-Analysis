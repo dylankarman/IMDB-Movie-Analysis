{
 "cells": [
  {
   "cell_type": "markdown",
   "metadata": {},
   "source": [
    "## Final Project Submission\n",
    "\n",
    "Please fill out:\n",
    "* Student name: \n",
    "* Student pace: self paced / part time / full time\n",
    "* Scheduled project review date/time: \n",
    "* Instructor name: \n",
    "* Blog post URL:\n"
   ]
  },
  {
   "cell_type": "code",
   "execution_count": 227,
   "metadata": {},
   "outputs": [
    {
     "ename": "NameError",
     "evalue": "name 'cd' is not defined",
     "output_type": "error",
     "traceback": [
      "\u001b[0;31m---------------------------------------------------------------------------\u001b[0m",
      "\u001b[0;31mNameError\u001b[0m                                 Traceback (most recent call last)",
      "\u001b[0;32m<ipython-input-227-6392c89c0e03>\u001b[0m in \u001b[0;36m<module>\u001b[0;34m\u001b[0m\n\u001b[1;32m      1\u001b[0m \u001b[0;31m#changing my directory to where the .csv file is stored.\u001b[0m\u001b[0;34m\u001b[0m\u001b[0;34m\u001b[0m\u001b[0;34m\u001b[0m\u001b[0m\n\u001b[0;32m----> 2\u001b[0;31m \u001b[0mcd\u001b[0m \u001b[0;34m/\u001b[0m\u001b[0mUsers\u001b[0m\u001b[0;34m/\u001b[0m\u001b[0mmacbook\u001b[0m\u001b[0;34m/\u001b[0m\u001b[0mdownloads\u001b[0m\u001b[0;34m\u001b[0m\u001b[0;34m\u001b[0m\u001b[0m\n\u001b[0m",
      "\u001b[0;31mNameError\u001b[0m: name 'cd' is not defined"
     ]
    }
   ],
   "source": [
    "#changing my directory to where the .csv file is stored.\n",
    "cd /Users/macbook/downloads"
   ]
  },
  {
   "cell_type": "code",
   "execution_count": 110,
   "metadata": {},
   "outputs": [],
   "source": [
    "# Your code here - remember to use markdown cells for comments as well!\n",
    "#Dylan Karman\n",
    "#Part Time\n",
    "#February 18, 2020\n",
    "#Eli Thomas\n",
    "\n",
    "\n",
    "#import the necessary functions\n",
    "import pandas as pd\n",
    "import numpy as np\n",
    "import matplotlib as plt\n",
    "import seaborn as sns\n",
    "%matplotlib inline\n",
    "movies = pd.read_csv('movies.csv', encoding='latin-1')"
   ]
  },
  {
   "cell_type": "code",
   "execution_count": 112,
   "metadata": {},
   "outputs": [
    {
     "data": {
      "text/html": [
       "<div>\n",
       "<style scoped>\n",
       "    .dataframe tbody tr th:only-of-type {\n",
       "        vertical-align: middle;\n",
       "    }\n",
       "\n",
       "    .dataframe tbody tr th {\n",
       "        vertical-align: top;\n",
       "    }\n",
       "\n",
       "    .dataframe thead th {\n",
       "        text-align: right;\n",
       "    }\n",
       "</style>\n",
       "<table border=\"1\" class=\"dataframe\">\n",
       "  <thead>\n",
       "    <tr style=\"text-align: right;\">\n",
       "      <th></th>\n",
       "      <th>budget</th>\n",
       "      <th>company</th>\n",
       "      <th>country</th>\n",
       "      <th>director</th>\n",
       "      <th>genre</th>\n",
       "      <th>gross</th>\n",
       "      <th>name</th>\n",
       "      <th>rating</th>\n",
       "      <th>released</th>\n",
       "      <th>runtime</th>\n",
       "      <th>score</th>\n",
       "      <th>star</th>\n",
       "      <th>votes</th>\n",
       "      <th>writer</th>\n",
       "      <th>year</th>\n",
       "    </tr>\n",
       "  </thead>\n",
       "  <tbody>\n",
       "    <tr>\n",
       "      <td>0</td>\n",
       "      <td>8000000.0</td>\n",
       "      <td>Columbia Pictures Corporation</td>\n",
       "      <td>USA</td>\n",
       "      <td>Rob Reiner</td>\n",
       "      <td>Adventure</td>\n",
       "      <td>52287414.0</td>\n",
       "      <td>Stand by Me</td>\n",
       "      <td>R</td>\n",
       "      <td>1986-08-22</td>\n",
       "      <td>89</td>\n",
       "      <td>8.1</td>\n",
       "      <td>Wil Wheaton</td>\n",
       "      <td>299174</td>\n",
       "      <td>Stephen King</td>\n",
       "      <td>1986</td>\n",
       "    </tr>\n",
       "    <tr>\n",
       "      <td>1</td>\n",
       "      <td>6000000.0</td>\n",
       "      <td>Paramount Pictures</td>\n",
       "      <td>USA</td>\n",
       "      <td>John Hughes</td>\n",
       "      <td>Comedy</td>\n",
       "      <td>70136369.0</td>\n",
       "      <td>Ferris Bueller's Day Off</td>\n",
       "      <td>PG-13</td>\n",
       "      <td>1986-06-11</td>\n",
       "      <td>103</td>\n",
       "      <td>7.8</td>\n",
       "      <td>Matthew Broderick</td>\n",
       "      <td>264740</td>\n",
       "      <td>John Hughes</td>\n",
       "      <td>1986</td>\n",
       "    </tr>\n",
       "    <tr>\n",
       "      <td>2</td>\n",
       "      <td>15000000.0</td>\n",
       "      <td>Paramount Pictures</td>\n",
       "      <td>USA</td>\n",
       "      <td>Tony Scott</td>\n",
       "      <td>Action</td>\n",
       "      <td>179800601.0</td>\n",
       "      <td>Top Gun</td>\n",
       "      <td>PG</td>\n",
       "      <td>1986-05-16</td>\n",
       "      <td>110</td>\n",
       "      <td>6.9</td>\n",
       "      <td>Tom Cruise</td>\n",
       "      <td>236909</td>\n",
       "      <td>Jim Cash</td>\n",
       "      <td>1986</td>\n",
       "    </tr>\n",
       "    <tr>\n",
       "      <td>3</td>\n",
       "      <td>18500000.0</td>\n",
       "      <td>Twentieth Century Fox Film Corporation</td>\n",
       "      <td>USA</td>\n",
       "      <td>James Cameron</td>\n",
       "      <td>Action</td>\n",
       "      <td>85160248.0</td>\n",
       "      <td>Aliens</td>\n",
       "      <td>R</td>\n",
       "      <td>1986-07-18</td>\n",
       "      <td>137</td>\n",
       "      <td>8.4</td>\n",
       "      <td>Sigourney Weaver</td>\n",
       "      <td>540152</td>\n",
       "      <td>James Cameron</td>\n",
       "      <td>1986</td>\n",
       "    </tr>\n",
       "    <tr>\n",
       "      <td>4</td>\n",
       "      <td>9000000.0</td>\n",
       "      <td>Walt Disney Pictures</td>\n",
       "      <td>USA</td>\n",
       "      <td>Randal Kleiser</td>\n",
       "      <td>Adventure</td>\n",
       "      <td>18564613.0</td>\n",
       "      <td>Flight of the Navigator</td>\n",
       "      <td>PG</td>\n",
       "      <td>1986-08-01</td>\n",
       "      <td>90</td>\n",
       "      <td>6.9</td>\n",
       "      <td>Joey Cramer</td>\n",
       "      <td>36636</td>\n",
       "      <td>Mark H. Baker</td>\n",
       "      <td>1986</td>\n",
       "    </tr>\n",
       "  </tbody>\n",
       "</table>\n",
       "</div>"
      ],
      "text/plain": [
       "       budget                                 company country        director  \\\n",
       "0   8000000.0           Columbia Pictures Corporation     USA      Rob Reiner   \n",
       "1   6000000.0                      Paramount Pictures     USA     John Hughes   \n",
       "2  15000000.0                      Paramount Pictures     USA      Tony Scott   \n",
       "3  18500000.0  Twentieth Century Fox Film Corporation     USA   James Cameron   \n",
       "4   9000000.0                    Walt Disney Pictures     USA  Randal Kleiser   \n",
       "\n",
       "       genre        gross                      name rating    released  \\\n",
       "0  Adventure   52287414.0               Stand by Me      R  1986-08-22   \n",
       "1     Comedy   70136369.0  Ferris Bueller's Day Off  PG-13  1986-06-11   \n",
       "2     Action  179800601.0                   Top Gun     PG  1986-05-16   \n",
       "3     Action   85160248.0                    Aliens      R  1986-07-18   \n",
       "4  Adventure   18564613.0   Flight of the Navigator     PG  1986-08-01   \n",
       "\n",
       "   runtime  score               star   votes         writer  year  \n",
       "0       89    8.1        Wil Wheaton  299174   Stephen King  1986  \n",
       "1      103    7.8  Matthew Broderick  264740    John Hughes  1986  \n",
       "2      110    6.9         Tom Cruise  236909       Jim Cash  1986  \n",
       "3      137    8.4   Sigourney Weaver  540152  James Cameron  1986  \n",
       "4       90    6.9        Joey Cramer   36636  Mark H. Baker  1986  "
      ]
     },
     "execution_count": 112,
     "metadata": {},
     "output_type": "execute_result"
    }
   ],
   "source": [
    "#check to see if it worked.\n",
    "movies.head()"
   ]
  },
  {
   "cell_type": "code",
   "execution_count": null,
   "metadata": {},
   "outputs": [],
   "source": [
    "#Renaming columns in a variable and then using the .rename method to make the change"
   ]
  },
  {
   "cell_type": "code",
   "execution_count": 113,
   "metadata": {},
   "outputs": [],
   "source": [
    "col_rename = {'name': 'title', 'gross': 'profit'} #william adams"
   ]
  },
  {
   "cell_type": "code",
   "execution_count": 114,
   "metadata": {},
   "outputs": [],
   "source": [
    "movies = movies.rename(columns=col_rename) #william adams"
   ]
  },
  {
   "cell_type": "code",
   "execution_count": 115,
   "metadata": {},
   "outputs": [
    {
     "data": {
      "text/html": [
       "<div>\n",
       "<style scoped>\n",
       "    .dataframe tbody tr th:only-of-type {\n",
       "        vertical-align: middle;\n",
       "    }\n",
       "\n",
       "    .dataframe tbody tr th {\n",
       "        vertical-align: top;\n",
       "    }\n",
       "\n",
       "    .dataframe thead th {\n",
       "        text-align: right;\n",
       "    }\n",
       "</style>\n",
       "<table border=\"1\" class=\"dataframe\">\n",
       "  <thead>\n",
       "    <tr style=\"text-align: right;\">\n",
       "      <th></th>\n",
       "      <th>budget</th>\n",
       "      <th>company</th>\n",
       "      <th>country</th>\n",
       "      <th>director</th>\n",
       "      <th>genre</th>\n",
       "      <th>profit</th>\n",
       "      <th>title</th>\n",
       "      <th>rating</th>\n",
       "      <th>released</th>\n",
       "      <th>runtime</th>\n",
       "      <th>score</th>\n",
       "      <th>star</th>\n",
       "      <th>votes</th>\n",
       "      <th>writer</th>\n",
       "      <th>year</th>\n",
       "    </tr>\n",
       "  </thead>\n",
       "  <tbody>\n",
       "    <tr>\n",
       "      <td>0</td>\n",
       "      <td>8000000.0</td>\n",
       "      <td>Columbia Pictures Corporation</td>\n",
       "      <td>USA</td>\n",
       "      <td>Rob Reiner</td>\n",
       "      <td>Adventure</td>\n",
       "      <td>52287414.0</td>\n",
       "      <td>Stand by Me</td>\n",
       "      <td>R</td>\n",
       "      <td>1986-08-22</td>\n",
       "      <td>89</td>\n",
       "      <td>8.1</td>\n",
       "      <td>Wil Wheaton</td>\n",
       "      <td>299174</td>\n",
       "      <td>Stephen King</td>\n",
       "      <td>1986</td>\n",
       "    </tr>\n",
       "    <tr>\n",
       "      <td>1</td>\n",
       "      <td>6000000.0</td>\n",
       "      <td>Paramount Pictures</td>\n",
       "      <td>USA</td>\n",
       "      <td>John Hughes</td>\n",
       "      <td>Comedy</td>\n",
       "      <td>70136369.0</td>\n",
       "      <td>Ferris Bueller's Day Off</td>\n",
       "      <td>PG-13</td>\n",
       "      <td>1986-06-11</td>\n",
       "      <td>103</td>\n",
       "      <td>7.8</td>\n",
       "      <td>Matthew Broderick</td>\n",
       "      <td>264740</td>\n",
       "      <td>John Hughes</td>\n",
       "      <td>1986</td>\n",
       "    </tr>\n",
       "    <tr>\n",
       "      <td>2</td>\n",
       "      <td>15000000.0</td>\n",
       "      <td>Paramount Pictures</td>\n",
       "      <td>USA</td>\n",
       "      <td>Tony Scott</td>\n",
       "      <td>Action</td>\n",
       "      <td>179800601.0</td>\n",
       "      <td>Top Gun</td>\n",
       "      <td>PG</td>\n",
       "      <td>1986-05-16</td>\n",
       "      <td>110</td>\n",
       "      <td>6.9</td>\n",
       "      <td>Tom Cruise</td>\n",
       "      <td>236909</td>\n",
       "      <td>Jim Cash</td>\n",
       "      <td>1986</td>\n",
       "    </tr>\n",
       "    <tr>\n",
       "      <td>3</td>\n",
       "      <td>18500000.0</td>\n",
       "      <td>Twentieth Century Fox Film Corporation</td>\n",
       "      <td>USA</td>\n",
       "      <td>James Cameron</td>\n",
       "      <td>Action</td>\n",
       "      <td>85160248.0</td>\n",
       "      <td>Aliens</td>\n",
       "      <td>R</td>\n",
       "      <td>1986-07-18</td>\n",
       "      <td>137</td>\n",
       "      <td>8.4</td>\n",
       "      <td>Sigourney Weaver</td>\n",
       "      <td>540152</td>\n",
       "      <td>James Cameron</td>\n",
       "      <td>1986</td>\n",
       "    </tr>\n",
       "    <tr>\n",
       "      <td>4</td>\n",
       "      <td>9000000.0</td>\n",
       "      <td>Walt Disney Pictures</td>\n",
       "      <td>USA</td>\n",
       "      <td>Randal Kleiser</td>\n",
       "      <td>Adventure</td>\n",
       "      <td>18564613.0</td>\n",
       "      <td>Flight of the Navigator</td>\n",
       "      <td>PG</td>\n",
       "      <td>1986-08-01</td>\n",
       "      <td>90</td>\n",
       "      <td>6.9</td>\n",
       "      <td>Joey Cramer</td>\n",
       "      <td>36636</td>\n",
       "      <td>Mark H. Baker</td>\n",
       "      <td>1986</td>\n",
       "    </tr>\n",
       "  </tbody>\n",
       "</table>\n",
       "</div>"
      ],
      "text/plain": [
       "       budget                                 company country        director  \\\n",
       "0   8000000.0           Columbia Pictures Corporation     USA      Rob Reiner   \n",
       "1   6000000.0                      Paramount Pictures     USA     John Hughes   \n",
       "2  15000000.0                      Paramount Pictures     USA      Tony Scott   \n",
       "3  18500000.0  Twentieth Century Fox Film Corporation     USA   James Cameron   \n",
       "4   9000000.0                    Walt Disney Pictures     USA  Randal Kleiser   \n",
       "\n",
       "       genre       profit                     title rating    released  \\\n",
       "0  Adventure   52287414.0               Stand by Me      R  1986-08-22   \n",
       "1     Comedy   70136369.0  Ferris Bueller's Day Off  PG-13  1986-06-11   \n",
       "2     Action  179800601.0                   Top Gun     PG  1986-05-16   \n",
       "3     Action   85160248.0                    Aliens      R  1986-07-18   \n",
       "4  Adventure   18564613.0   Flight of the Navigator     PG  1986-08-01   \n",
       "\n",
       "   runtime  score               star   votes         writer  year  \n",
       "0       89    8.1        Wil Wheaton  299174   Stephen King  1986  \n",
       "1      103    7.8  Matthew Broderick  264740    John Hughes  1986  \n",
       "2      110    6.9         Tom Cruise  236909       Jim Cash  1986  \n",
       "3      137    8.4   Sigourney Weaver  540152  James Cameron  1986  \n",
       "4       90    6.9        Joey Cramer   36636  Mark H. Baker  1986  "
      ]
     },
     "execution_count": 115,
     "metadata": {},
     "output_type": "execute_result"
    }
   ],
   "source": [
    "movies.head()"
   ]
  },
  {
   "cell_type": "code",
   "execution_count": 206,
   "metadata": {},
   "outputs": [
    {
     "data": {
      "text/html": [
       "<div>\n",
       "<style scoped>\n",
       "    .dataframe tbody tr th:only-of-type {\n",
       "        vertical-align: middle;\n",
       "    }\n",
       "\n",
       "    .dataframe tbody tr th {\n",
       "        vertical-align: top;\n",
       "    }\n",
       "\n",
       "    .dataframe thead th {\n",
       "        text-align: right;\n",
       "    }\n",
       "</style>\n",
       "<table border=\"1\" class=\"dataframe\">\n",
       "  <thead>\n",
       "    <tr style=\"text-align: right;\">\n",
       "      <th></th>\n",
       "      <th>budget</th>\n",
       "      <th>company</th>\n",
       "      <th>country</th>\n",
       "      <th>director</th>\n",
       "      <th>genre</th>\n",
       "      <th>profit</th>\n",
       "      <th>rating</th>\n",
       "      <th>released</th>\n",
       "      <th>runtime</th>\n",
       "      <th>score</th>\n",
       "      <th>star</th>\n",
       "      <th>votes</th>\n",
       "      <th>writer</th>\n",
       "      <th>year</th>\n",
       "    </tr>\n",
       "    <tr>\n",
       "      <th>title</th>\n",
       "      <th></th>\n",
       "      <th></th>\n",
       "      <th></th>\n",
       "      <th></th>\n",
       "      <th></th>\n",
       "      <th></th>\n",
       "      <th></th>\n",
       "      <th></th>\n",
       "      <th></th>\n",
       "      <th></th>\n",
       "      <th></th>\n",
       "      <th></th>\n",
       "      <th></th>\n",
       "      <th></th>\n",
       "    </tr>\n",
       "  </thead>\n",
       "  <tbody>\n",
       "    <tr>\n",
       "      <td>Stand by Me</td>\n",
       "      <td>8000000.0</td>\n",
       "      <td>Columbia Pictures Corporation</td>\n",
       "      <td>USA</td>\n",
       "      <td>Rob Reiner</td>\n",
       "      <td>Adventure</td>\n",
       "      <td>52287414.0</td>\n",
       "      <td>R</td>\n",
       "      <td>1986-08-22</td>\n",
       "      <td>89</td>\n",
       "      <td>8.1</td>\n",
       "      <td>Wil Wheaton</td>\n",
       "      <td>299174</td>\n",
       "      <td>Stephen King</td>\n",
       "      <td>1986</td>\n",
       "    </tr>\n",
       "    <tr>\n",
       "      <td>Ferris Bueller's Day Off</td>\n",
       "      <td>6000000.0</td>\n",
       "      <td>Paramount Pictures</td>\n",
       "      <td>USA</td>\n",
       "      <td>John Hughes</td>\n",
       "      <td>Comedy</td>\n",
       "      <td>70136369.0</td>\n",
       "      <td>PG-13</td>\n",
       "      <td>1986-06-11</td>\n",
       "      <td>103</td>\n",
       "      <td>7.8</td>\n",
       "      <td>Matthew Broderick</td>\n",
       "      <td>264740</td>\n",
       "      <td>John Hughes</td>\n",
       "      <td>1986</td>\n",
       "    </tr>\n",
       "    <tr>\n",
       "      <td>Top Gun</td>\n",
       "      <td>15000000.0</td>\n",
       "      <td>Paramount Pictures</td>\n",
       "      <td>USA</td>\n",
       "      <td>Tony Scott</td>\n",
       "      <td>Action</td>\n",
       "      <td>179800601.0</td>\n",
       "      <td>PG</td>\n",
       "      <td>1986-05-16</td>\n",
       "      <td>110</td>\n",
       "      <td>6.9</td>\n",
       "      <td>Tom Cruise</td>\n",
       "      <td>236909</td>\n",
       "      <td>Jim Cash</td>\n",
       "      <td>1986</td>\n",
       "    </tr>\n",
       "    <tr>\n",
       "      <td>Aliens</td>\n",
       "      <td>18500000.0</td>\n",
       "      <td>Twentieth Century Fox Film Corporation</td>\n",
       "      <td>USA</td>\n",
       "      <td>James Cameron</td>\n",
       "      <td>Action</td>\n",
       "      <td>85160248.0</td>\n",
       "      <td>R</td>\n",
       "      <td>1986-07-18</td>\n",
       "      <td>137</td>\n",
       "      <td>8.4</td>\n",
       "      <td>Sigourney Weaver</td>\n",
       "      <td>540152</td>\n",
       "      <td>James Cameron</td>\n",
       "      <td>1986</td>\n",
       "    </tr>\n",
       "    <tr>\n",
       "      <td>Flight of the Navigator</td>\n",
       "      <td>9000000.0</td>\n",
       "      <td>Walt Disney Pictures</td>\n",
       "      <td>USA</td>\n",
       "      <td>Randal Kleiser</td>\n",
       "      <td>Adventure</td>\n",
       "      <td>18564613.0</td>\n",
       "      <td>PG</td>\n",
       "      <td>1986-08-01</td>\n",
       "      <td>90</td>\n",
       "      <td>6.9</td>\n",
       "      <td>Joey Cramer</td>\n",
       "      <td>36636</td>\n",
       "      <td>Mark H. Baker</td>\n",
       "      <td>1986</td>\n",
       "    </tr>\n",
       "    <tr>\n",
       "      <td>...</td>\n",
       "      <td>...</td>\n",
       "      <td>...</td>\n",
       "      <td>...</td>\n",
       "      <td>...</td>\n",
       "      <td>...</td>\n",
       "      <td>...</td>\n",
       "      <td>...</td>\n",
       "      <td>...</td>\n",
       "      <td>...</td>\n",
       "      <td>...</td>\n",
       "      <td>...</td>\n",
       "      <td>...</td>\n",
       "      <td>...</td>\n",
       "      <td>...</td>\n",
       "    </tr>\n",
       "    <tr>\n",
       "      <td>Absolutely Fabulous: The Movie</td>\n",
       "      <td>0.0</td>\n",
       "      <td>Fox Searchlight Pictures</td>\n",
       "      <td>UK</td>\n",
       "      <td>Mandie Fletcher</td>\n",
       "      <td>Comedy</td>\n",
       "      <td>4750497.0</td>\n",
       "      <td>R</td>\n",
       "      <td>2016-07-22</td>\n",
       "      <td>91</td>\n",
       "      <td>5.4</td>\n",
       "      <td>Jennifer Saunders</td>\n",
       "      <td>9161</td>\n",
       "      <td>Jennifer Saunders</td>\n",
       "      <td>2016</td>\n",
       "    </tr>\n",
       "    <tr>\n",
       "      <td>Mothers and Daughters</td>\n",
       "      <td>0.0</td>\n",
       "      <td>Siempre Viva Productions</td>\n",
       "      <td>USA</td>\n",
       "      <td>Paul Duddridge</td>\n",
       "      <td>Drama</td>\n",
       "      <td>28368.0</td>\n",
       "      <td>PG-13</td>\n",
       "      <td>2016-05-06</td>\n",
       "      <td>90</td>\n",
       "      <td>4.9</td>\n",
       "      <td>Selma Blair</td>\n",
       "      <td>1959</td>\n",
       "      <td>Paige Cameron</td>\n",
       "      <td>2016</td>\n",
       "    </tr>\n",
       "    <tr>\n",
       "      <td>Batman: The Killing Joke</td>\n",
       "      <td>3500000.0</td>\n",
       "      <td>Warner Bros. Animation</td>\n",
       "      <td>USA</td>\n",
       "      <td>Sam Liu</td>\n",
       "      <td>Animation</td>\n",
       "      <td>3775000.0</td>\n",
       "      <td>R</td>\n",
       "      <td>2016-07-25</td>\n",
       "      <td>76</td>\n",
       "      <td>6.5</td>\n",
       "      <td>Kevin Conroy</td>\n",
       "      <td>36333</td>\n",
       "      <td>Brian Azzarello</td>\n",
       "      <td>2016</td>\n",
       "    </tr>\n",
       "    <tr>\n",
       "      <td>The Eyes of My Mother</td>\n",
       "      <td>0.0</td>\n",
       "      <td>Borderline Presents</td>\n",
       "      <td>USA</td>\n",
       "      <td>Nicolas Pesce</td>\n",
       "      <td>Drama</td>\n",
       "      <td>25981.0</td>\n",
       "      <td>R</td>\n",
       "      <td>2016-12-02</td>\n",
       "      <td>76</td>\n",
       "      <td>6.2</td>\n",
       "      <td>Kika Magalhães</td>\n",
       "      <td>6947</td>\n",
       "      <td>Nicolas Pesce</td>\n",
       "      <td>2016</td>\n",
       "    </tr>\n",
       "    <tr>\n",
       "      <td>From the Land of the Moon</td>\n",
       "      <td>0.0</td>\n",
       "      <td>Les Productions du Trésor</td>\n",
       "      <td>France</td>\n",
       "      <td>Nicole Garcia</td>\n",
       "      <td>Drama</td>\n",
       "      <td>37757.0</td>\n",
       "      <td>R</td>\n",
       "      <td>2017-07-28</td>\n",
       "      <td>120</td>\n",
       "      <td>6.7</td>\n",
       "      <td>Marion Cotillard</td>\n",
       "      <td>2411</td>\n",
       "      <td>Milena Agus</td>\n",
       "      <td>2016</td>\n",
       "    </tr>\n",
       "  </tbody>\n",
       "</table>\n",
       "<p>6820 rows × 14 columns</p>\n",
       "</div>"
      ],
      "text/plain": [
       "                                    budget  \\\n",
       "title                                        \n",
       "Stand by Me                      8000000.0   \n",
       "Ferris Bueller's Day Off         6000000.0   \n",
       "Top Gun                         15000000.0   \n",
       "Aliens                          18500000.0   \n",
       "Flight of the Navigator          9000000.0   \n",
       "...                                    ...   \n",
       "Absolutely Fabulous: The Movie         0.0   \n",
       "Mothers and Daughters                  0.0   \n",
       "Batman: The Killing Joke         3500000.0   \n",
       "The Eyes of My Mother                  0.0   \n",
       "From the Land of the Moon              0.0   \n",
       "\n",
       "                                                               company  \\\n",
       "title                                                                    \n",
       "Stand by Me                              Columbia Pictures Corporation   \n",
       "Ferris Bueller's Day Off                            Paramount Pictures   \n",
       "Top Gun                                             Paramount Pictures   \n",
       "Aliens                          Twentieth Century Fox Film Corporation   \n",
       "Flight of the Navigator                           Walt Disney Pictures   \n",
       "...                                                                ...   \n",
       "Absolutely Fabulous: The Movie                Fox Searchlight Pictures   \n",
       "Mothers and Daughters                         Siempre Viva Productions   \n",
       "Batman: The Killing Joke                        Warner Bros. Animation   \n",
       "The Eyes of My Mother                              Borderline Presents   \n",
       "From the Land of the Moon                    Les Productions du Trésor   \n",
       "\n",
       "                               country         director      genre  \\\n",
       "title                                                                \n",
       "Stand by Me                        USA       Rob Reiner  Adventure   \n",
       "Ferris Bueller's Day Off           USA      John Hughes     Comedy   \n",
       "Top Gun                            USA       Tony Scott     Action   \n",
       "Aliens                             USA    James Cameron     Action   \n",
       "Flight of the Navigator            USA   Randal Kleiser  Adventure   \n",
       "...                                ...              ...        ...   \n",
       "Absolutely Fabulous: The Movie      UK  Mandie Fletcher     Comedy   \n",
       "Mothers and Daughters              USA   Paul Duddridge      Drama   \n",
       "Batman: The Killing Joke           USA          Sam Liu  Animation   \n",
       "The Eyes of My Mother              USA    Nicolas Pesce      Drama   \n",
       "From the Land of the Moon       France    Nicole Garcia      Drama   \n",
       "\n",
       "                                     profit rating    released  runtime  \\\n",
       "title                                                                     \n",
       "Stand by Me                      52287414.0      R  1986-08-22       89   \n",
       "Ferris Bueller's Day Off         70136369.0  PG-13  1986-06-11      103   \n",
       "Top Gun                         179800601.0     PG  1986-05-16      110   \n",
       "Aliens                           85160248.0      R  1986-07-18      137   \n",
       "Flight of the Navigator          18564613.0     PG  1986-08-01       90   \n",
       "...                                     ...    ...         ...      ...   \n",
       "Absolutely Fabulous: The Movie    4750497.0      R  2016-07-22       91   \n",
       "Mothers and Daughters               28368.0  PG-13  2016-05-06       90   \n",
       "Batman: The Killing Joke          3775000.0      R  2016-07-25       76   \n",
       "The Eyes of My Mother               25981.0      R  2016-12-02       76   \n",
       "From the Land of the Moon           37757.0      R  2017-07-28      120   \n",
       "\n",
       "                                score               star   votes  \\\n",
       "title                                                              \n",
       "Stand by Me                       8.1        Wil Wheaton  299174   \n",
       "Ferris Bueller's Day Off          7.8  Matthew Broderick  264740   \n",
       "Top Gun                           6.9         Tom Cruise  236909   \n",
       "Aliens                            8.4   Sigourney Weaver  540152   \n",
       "Flight of the Navigator           6.9        Joey Cramer   36636   \n",
       "...                               ...                ...     ...   \n",
       "Absolutely Fabulous: The Movie    5.4  Jennifer Saunders    9161   \n",
       "Mothers and Daughters             4.9        Selma Blair    1959   \n",
       "Batman: The Killing Joke          6.5       Kevin Conroy   36333   \n",
       "The Eyes of My Mother             6.2     Kika Magalhães    6947   \n",
       "From the Land of the Moon         6.7   Marion Cotillard    2411   \n",
       "\n",
       "                                           writer  year  \n",
       "title                                                    \n",
       "Stand by Me                          Stephen King  1986  \n",
       "Ferris Bueller's Day Off              John Hughes  1986  \n",
       "Top Gun                                  Jim Cash  1986  \n",
       "Aliens                              James Cameron  1986  \n",
       "Flight of the Navigator             Mark H. Baker  1986  \n",
       "...                                           ...   ...  \n",
       "Absolutely Fabulous: The Movie  Jennifer Saunders  2016  \n",
       "Mothers and Daughters               Paige Cameron  2016  \n",
       "Batman: The Killing Joke          Brian Azzarello  2016  \n",
       "The Eyes of My Mother               Nicolas Pesce  2016  \n",
       "From the Land of the Moon             Milena Agus  2016  \n",
       "\n",
       "[6820 rows x 14 columns]"
      ]
     },
     "execution_count": 206,
     "metadata": {},
     "output_type": "execute_result"
    }
   ],
   "source": [
    "movies.set_index('title', inplace=True) #Set the index to the movie title #william adams\n",
    "movies"
   ]
  },
  {
   "cell_type": "code",
   "execution_count": 11,
   "metadata": {},
   "outputs": [],
   "source": [
    "#Changing profit and budget to integers so they can be graphed"
   ]
  },
  {
   "cell_type": "code",
   "execution_count": 9,
   "metadata": {
    "scrolled": true
   },
   "outputs": [
    {
     "data": {
      "text/plain": [
       "0        8000000\n",
       "1        6000000\n",
       "2       15000000\n",
       "3       18500000\n",
       "4        9000000\n",
       "          ...   \n",
       "6815           0\n",
       "6816           0\n",
       "6817     3500000\n",
       "6818           0\n",
       "6819           0\n",
       "Name: budget, Length: 6820, dtype: int64"
      ]
     },
     "execution_count": 9,
     "metadata": {},
     "output_type": "execute_result"
    }
   ],
   "source": [
    "movies['profit'].astype(int) #william adams\n",
    "movies['budget'].astype(int) #william adams"
   ]
  },
  {
   "cell_type": "markdown",
   "metadata": {},
   "source": [
    "# I wanted to see the average movie length.\n"
   ]
  },
  {
   "cell_type": "code",
   "execution_count": 10,
   "metadata": {},
   "outputs": [
    {
     "data": {
      "image/png": "[encoded data removed]",
      "text/plain": [
       "<Figure size 432x288 with 1 Axes>"
      ]
     },
     "metadata": {
      "needs_background": "light"
     },
     "output_type": "display_data"
    }
   ],
   "source": [
    "#Create a simple dist plot to look at the distribution of runtime. Most movies are around 110 minutes long\n",
    "\n",
    "sns.distplot(movies['runtime'], kde=True); #william adams"
   ]
  },
  {
   "cell_type": "code",
   "execution_count": 361,
   "metadata": {},
   "outputs": [],
   "source": [
    "# Making a table of genre counts in the dataframe using the crosstab function and then making a bar graph to show \n",
    "# the number of occurences for each genre. Comedy, Drama, and Action are in the top 3¶"
   ]
  },
  {
   "cell_type": "code",
   "execution_count": 11,
   "metadata": {},
   "outputs": [],
   "source": [
    "genre_count = pd.crosstab(index=movies['genre'], columns='count') #william adams"
   ]
  },
  {
   "cell_type": "code",
   "execution_count": 12,
   "metadata": {},
   "outputs": [
    {
     "data": {
      "text/plain": [
       "genre\n",
       "Comedy       2080\n",
       "Drama        1444\n",
       "Action       1331\n",
       "Crime         522\n",
       "Adventure     392\n",
       "Biography     359\n",
       "Animation     277\n",
       "Horror        277\n",
       "Mystery        38\n",
       "Fantasy        32\n",
       "Thriller       18\n",
       "Romance        15\n",
       "Family         14\n",
       "Sci-Fi         13\n",
       "Musical         4\n",
       "War             2\n",
       "Western         2\n",
       "Name: count, dtype: int64"
      ]
     },
     "execution_count": 12,
     "metadata": {},
     "output_type": "execute_result"
    }
   ],
   "source": [
    "genre_count['count'].sort_values(ascending = False)#william adams\n",
    "#There are more comedy movies than anything by a wide margin. "
   ]
  },
  {
   "cell_type": "code",
   "execution_count": 13,
   "metadata": {},
   "outputs": [
    {
     "data": {
      "image/png": "[encoded data removed]",
      "text/plain": [
       "<Figure size 432x288 with 1 Axes>"
      ]
     },
     "metadata": {
      "needs_background": "light"
     },
     "output_type": "display_data"
    }
   ],
   "source": [
    "genre_count.plot(kind='bar');#william adams"
   ]
  },
  {
   "cell_type": "code",
   "execution_count": 5,
   "metadata": {},
   "outputs": [],
   "source": [
    "#Creating new dataframe and sorting the profit and budget from highest to lowest"
   ]
  },
  {
   "cell_type": "code",
   "execution_count": 14,
   "metadata": {},
   "outputs": [],
   "source": [
    "movies = movies[['genre', 'budget', 'profit', 'runtime', 'rating', 'company', 'director', 'year']] #william adams\n",
    "movies.sort_values(by=['profit', 'budget'], ascending=False, inplace=True) #william adams"
   ]
  },
  {
   "cell_type": "code",
   "execution_count": 15,
   "metadata": {},
   "outputs": [
    {
     "data": {
      "text/html": [
       "<div>\n",
       "<style scoped>\n",
       "    .dataframe tbody tr th:only-of-type {\n",
       "        vertical-align: middle;\n",
       "    }\n",
       "\n",
       "    .dataframe tbody tr th {\n",
       "        vertical-align: top;\n",
       "    }\n",
       "\n",
       "    .dataframe thead th {\n",
       "        text-align: right;\n",
       "    }\n",
       "</style>\n",
       "<table border=\"1\" class=\"dataframe\">\n",
       "  <thead>\n",
       "    <tr style=\"text-align: right;\">\n",
       "      <th></th>\n",
       "      <th>genre</th>\n",
       "      <th>budget</th>\n",
       "      <th>profit</th>\n",
       "      <th>runtime</th>\n",
       "      <th>rating</th>\n",
       "      <th>company</th>\n",
       "      <th>director</th>\n",
       "      <th>year</th>\n",
       "    </tr>\n",
       "  </thead>\n",
       "  <tbody>\n",
       "    <tr>\n",
       "      <td>6380</td>\n",
       "      <td>Action</td>\n",
       "      <td>245000000.0</td>\n",
       "      <td>936662225.0</td>\n",
       "      <td>136</td>\n",
       "      <td>PG-13</td>\n",
       "      <td>Lucasfilm</td>\n",
       "      <td>J.J. Abrams</td>\n",
       "      <td>2015</td>\n",
       "    </tr>\n",
       "    <tr>\n",
       "      <td>5061</td>\n",
       "      <td>Action</td>\n",
       "      <td>237000000.0</td>\n",
       "      <td>760507625.0</td>\n",
       "      <td>162</td>\n",
       "      <td>PG-13</td>\n",
       "      <td>Twentieth Century Fox Film Corporation</td>\n",
       "      <td>James Cameron</td>\n",
       "      <td>2009</td>\n",
       "    </tr>\n",
       "    <tr>\n",
       "      <td>2420</td>\n",
       "      <td>Drama</td>\n",
       "      <td>200000000.0</td>\n",
       "      <td>658672302.0</td>\n",
       "      <td>194</td>\n",
       "      <td>PG-13</td>\n",
       "      <td>Twentieth Century Fox Film Corporation</td>\n",
       "      <td>James Cameron</td>\n",
       "      <td>1997</td>\n",
       "    </tr>\n",
       "    <tr>\n",
       "      <td>6391</td>\n",
       "      <td>Action</td>\n",
       "      <td>150000000.0</td>\n",
       "      <td>652270625.0</td>\n",
       "      <td>124</td>\n",
       "      <td>PG-13</td>\n",
       "      <td>Universal Pictures</td>\n",
       "      <td>Colin Trevorrow</td>\n",
       "      <td>2015</td>\n",
       "    </tr>\n",
       "    <tr>\n",
       "      <td>5723</td>\n",
       "      <td>Action</td>\n",
       "      <td>220000000.0</td>\n",
       "      <td>623357910.0</td>\n",
       "      <td>143</td>\n",
       "      <td>PG-13</td>\n",
       "      <td>Marvel Studios</td>\n",
       "      <td>Joss Whedon</td>\n",
       "      <td>2012</td>\n",
       "    </tr>\n",
       "  </tbody>\n",
       "</table>\n",
       "</div>"
      ],
      "text/plain": [
       "       genre       budget       profit  runtime rating  \\\n",
       "6380  Action  245000000.0  936662225.0      136  PG-13   \n",
       "5061  Action  237000000.0  760507625.0      162  PG-13   \n",
       "2420   Drama  200000000.0  658672302.0      194  PG-13   \n",
       "6391  Action  150000000.0  652270625.0      124  PG-13   \n",
       "5723  Action  220000000.0  623357910.0      143  PG-13   \n",
       "\n",
       "                                     company         director  year  \n",
       "6380                               Lucasfilm      J.J. Abrams  2015  \n",
       "5061  Twentieth Century Fox Film Corporation    James Cameron  2009  \n",
       "2420  Twentieth Century Fox Film Corporation    James Cameron  1997  \n",
       "6391                      Universal Pictures  Colin Trevorrow  2015  \n",
       "5723                          Marvel Studios      Joss Whedon  2012  "
      ]
     },
     "execution_count": 15,
     "metadata": {},
     "output_type": "execute_result"
    }
   ],
   "source": [
    "movies.head()"
   ]
  },
  {
   "cell_type": "code",
   "execution_count": 8,
   "metadata": {},
   "outputs": [],
   "source": [
    "#Grabbing the top 100 movies based on profit."
   ]
  },
  {
   "cell_type": "code",
   "execution_count": 16,
   "metadata": {},
   "outputs": [
    {
     "data": {
      "text/html": [
       "<div>\n",
       "<style scoped>\n",
       "    .dataframe tbody tr th:only-of-type {\n",
       "        vertical-align: middle;\n",
       "    }\n",
       "\n",
       "    .dataframe tbody tr th {\n",
       "        vertical-align: top;\n",
       "    }\n",
       "\n",
       "    .dataframe thead th {\n",
       "        text-align: right;\n",
       "    }\n",
       "</style>\n",
       "<table border=\"1\" class=\"dataframe\">\n",
       "  <thead>\n",
       "    <tr style=\"text-align: right;\">\n",
       "      <th></th>\n",
       "      <th>genre</th>\n",
       "      <th>budget</th>\n",
       "      <th>profit</th>\n",
       "      <th>runtime</th>\n",
       "      <th>rating</th>\n",
       "      <th>company</th>\n",
       "      <th>director</th>\n",
       "      <th>year</th>\n",
       "    </tr>\n",
       "  </thead>\n",
       "  <tbody>\n",
       "    <tr>\n",
       "      <td>6380</td>\n",
       "      <td>Action</td>\n",
       "      <td>245000000.0</td>\n",
       "      <td>936662225.0</td>\n",
       "      <td>136</td>\n",
       "      <td>PG-13</td>\n",
       "      <td>Lucasfilm</td>\n",
       "      <td>J.J. Abrams</td>\n",
       "      <td>2015</td>\n",
       "    </tr>\n",
       "    <tr>\n",
       "      <td>5061</td>\n",
       "      <td>Action</td>\n",
       "      <td>237000000.0</td>\n",
       "      <td>760507625.0</td>\n",
       "      <td>162</td>\n",
       "      <td>PG-13</td>\n",
       "      <td>Twentieth Century Fox Film Corporation</td>\n",
       "      <td>James Cameron</td>\n",
       "      <td>2009</td>\n",
       "    </tr>\n",
       "    <tr>\n",
       "      <td>2420</td>\n",
       "      <td>Drama</td>\n",
       "      <td>200000000.0</td>\n",
       "      <td>658672302.0</td>\n",
       "      <td>194</td>\n",
       "      <td>PG-13</td>\n",
       "      <td>Twentieth Century Fox Film Corporation</td>\n",
       "      <td>James Cameron</td>\n",
       "      <td>1997</td>\n",
       "    </tr>\n",
       "    <tr>\n",
       "      <td>6391</td>\n",
       "      <td>Action</td>\n",
       "      <td>150000000.0</td>\n",
       "      <td>652270625.0</td>\n",
       "      <td>124</td>\n",
       "      <td>PG-13</td>\n",
       "      <td>Universal Pictures</td>\n",
       "      <td>Colin Trevorrow</td>\n",
       "      <td>2015</td>\n",
       "    </tr>\n",
       "    <tr>\n",
       "      <td>5723</td>\n",
       "      <td>Action</td>\n",
       "      <td>220000000.0</td>\n",
       "      <td>623357910.0</td>\n",
       "      <td>143</td>\n",
       "      <td>PG-13</td>\n",
       "      <td>Marvel Studios</td>\n",
       "      <td>Joss Whedon</td>\n",
       "      <td>2012</td>\n",
       "    </tr>\n",
       "    <tr>\n",
       "      <td>...</td>\n",
       "      <td>...</td>\n",
       "      <td>...</td>\n",
       "      <td>...</td>\n",
       "      <td>...</td>\n",
       "      <td>...</td>\n",
       "      <td>...</td>\n",
       "      <td>...</td>\n",
       "      <td>...</td>\n",
       "    </tr>\n",
       "    <tr>\n",
       "      <td>5291</td>\n",
       "      <td>Animation</td>\n",
       "      <td>69000000.0</td>\n",
       "      <td>251513985.0</td>\n",
       "      <td>95</td>\n",
       "      <td>PG</td>\n",
       "      <td>Universal Pictures</td>\n",
       "      <td>Pierre Coffin</td>\n",
       "      <td>2010</td>\n",
       "    </tr>\n",
       "    <tr>\n",
       "      <td>661</td>\n",
       "      <td>Action</td>\n",
       "      <td>35000000.0</td>\n",
       "      <td>251188924.0</td>\n",
       "      <td>126</td>\n",
       "      <td>PG-13</td>\n",
       "      <td>Warner Bros.</td>\n",
       "      <td>Tim Burton</td>\n",
       "      <td>1989</td>\n",
       "    </tr>\n",
       "    <tr>\n",
       "      <td>4450</td>\n",
       "      <td>Adventure</td>\n",
       "      <td>110000000.0</td>\n",
       "      <td>250863268.0</td>\n",
       "      <td>108</td>\n",
       "      <td>PG</td>\n",
       "      <td>Twentieth Century Fox Film Corporation</td>\n",
       "      <td>Shawn Levy</td>\n",
       "      <td>2006</td>\n",
       "    </tr>\n",
       "    <tr>\n",
       "      <td>2431</td>\n",
       "      <td>Adventure</td>\n",
       "      <td>90000000.0</td>\n",
       "      <td>250690539.0</td>\n",
       "      <td>98</td>\n",
       "      <td>PG-13</td>\n",
       "      <td>Columbia Pictures Corporation</td>\n",
       "      <td>Barry Sonnenfeld</td>\n",
       "      <td>1997</td>\n",
       "    </tr>\n",
       "    <tr>\n",
       "      <td>3966</td>\n",
       "      <td>Adventure</td>\n",
       "      <td>130000000.0</td>\n",
       "      <td>249358727.0</td>\n",
       "      <td>142</td>\n",
       "      <td>PG</td>\n",
       "      <td>Warner Bros.</td>\n",
       "      <td>Alfonso Cuarón</td>\n",
       "      <td>2004</td>\n",
       "    </tr>\n",
       "  </tbody>\n",
       "</table>\n",
       "<p>100 rows × 8 columns</p>\n",
       "</div>"
      ],
      "text/plain": [
       "          genre       budget       profit  runtime rating  \\\n",
       "6380     Action  245000000.0  936662225.0      136  PG-13   \n",
       "5061     Action  237000000.0  760507625.0      162  PG-13   \n",
       "2420      Drama  200000000.0  658672302.0      194  PG-13   \n",
       "6391     Action  150000000.0  652270625.0      124  PG-13   \n",
       "5723     Action  220000000.0  623357910.0      143  PG-13   \n",
       "...         ...          ...          ...      ...    ...   \n",
       "5291  Animation   69000000.0  251513985.0       95     PG   \n",
       "661      Action   35000000.0  251188924.0      126  PG-13   \n",
       "4450  Adventure  110000000.0  250863268.0      108     PG   \n",
       "2431  Adventure   90000000.0  250690539.0       98  PG-13   \n",
       "3966  Adventure  130000000.0  249358727.0      142     PG   \n",
       "\n",
       "                                     company          director  year  \n",
       "6380                               Lucasfilm       J.J. Abrams  2015  \n",
       "5061  Twentieth Century Fox Film Corporation     James Cameron  2009  \n",
       "2420  Twentieth Century Fox Film Corporation     James Cameron  1997  \n",
       "6391                      Universal Pictures   Colin Trevorrow  2015  \n",
       "5723                          Marvel Studios       Joss Whedon  2012  \n",
       "...                                      ...               ...   ...  \n",
       "5291                      Universal Pictures     Pierre Coffin  2010  \n",
       "661                             Warner Bros.        Tim Burton  1989  \n",
       "4450  Twentieth Century Fox Film Corporation        Shawn Levy  2006  \n",
       "2431           Columbia Pictures Corporation  Barry Sonnenfeld  1997  \n",
       "3966                            Warner Bros.    Alfonso Cuarón  2004  \n",
       "\n",
       "[100 rows x 8 columns]"
      ]
     },
     "execution_count": 16,
     "metadata": {},
     "output_type": "execute_result"
    }
   ],
   "source": [
    "Top_movies = movies[:100]\n",
    "Top_movies"
   ]
  },
  {
   "cell_type": "markdown",
   "metadata": {},
   "source": [
    "# I wanted to see which directors appear on the top 100 list the most and check to see which directors made the top grossing movies."
   ]
  },
  {
   "cell_type": "code",
   "execution_count": 215,
   "metadata": {},
   "outputs": [
    {
     "data": {
      "text/plain": [
       "director\n",
       "Peter Jackson        6\n",
       "Francis Lawrence     4\n",
       "David Yates          4\n",
       "Christopher Nolan    3\n",
       "Michael Bay          3\n",
       "Pete Docter          3\n",
       "Gore Verbinski       3\n",
       "George Lucas         3\n",
       "Jon Favreau          3\n",
       "Sam Raimi            3\n",
       "Chris Columbus       3\n",
       "Andrew Adamson       3\n",
       "Name: count, dtype: int64"
      ]
     },
     "execution_count": 215,
     "metadata": {},
     "output_type": "execute_result"
    }
   ],
   "source": [
    "#Check to see which directors appear the most in the top 100 movies sorted by profit.\n",
    "director = pd.crosstab(index=Top_movies['director'], columns='count')\n",
    "director['count'].sort_values(ascending = False).head(12)\n",
    "#I put a heading of 12 beacause these are all of the directors that were on the list at least 3 times."
   ]
  },
  {
   "cell_type": "code",
   "execution_count": 87,
   "metadata": {},
   "outputs": [],
   "source": [
    "#make a simple graph of the above results."
   ]
  },
  {
   "cell_type": "code",
   "execution_count": 78,
   "metadata": {},
   "outputs": [
    {
     "data": {
      "image/png": "[encoded data removed]",
      "text/plain": [
       "<Figure size 432x288 with 1 Axes>"
      ]
     },
     "metadata": {
      "needs_background": "light"
     },
     "output_type": "display_data"
    }
   ],
   "source": [
    "director['count'].sort_values(ascending = False).head(12).plot(kind='bar');"
   ]
  },
  {
   "cell_type": "code",
   "execution_count": 89,
   "metadata": {},
   "outputs": [
    {
     "data": {
      "text/html": [
       "<div>\n",
       "<style scoped>\n",
       "    .dataframe tbody tr th:only-of-type {\n",
       "        vertical-align: middle;\n",
       "    }\n",
       "\n",
       "    .dataframe tbody tr th {\n",
       "        vertical-align: top;\n",
       "    }\n",
       "\n",
       "    .dataframe thead th {\n",
       "        text-align: right;\n",
       "    }\n",
       "</style>\n",
       "<table border=\"1\" class=\"dataframe\">\n",
       "  <thead>\n",
       "    <tr style=\"text-align: right;\">\n",
       "      <th></th>\n",
       "      <th>director</th>\n",
       "      <th>profit</th>\n",
       "    </tr>\n",
       "  </thead>\n",
       "  <tbody>\n",
       "    <tr>\n",
       "      <td>6380</td>\n",
       "      <td>J.J. Abrams</td>\n",
       "      <td>936662225.0</td>\n",
       "    </tr>\n",
       "    <tr>\n",
       "      <td>5061</td>\n",
       "      <td>James Cameron</td>\n",
       "      <td>760507625.0</td>\n",
       "    </tr>\n",
       "    <tr>\n",
       "      <td>2420</td>\n",
       "      <td>James Cameron</td>\n",
       "      <td>658672302.0</td>\n",
       "    </tr>\n",
       "    <tr>\n",
       "      <td>6391</td>\n",
       "      <td>Colin Trevorrow</td>\n",
       "      <td>652270625.0</td>\n",
       "    </tr>\n",
       "    <tr>\n",
       "      <td>5723</td>\n",
       "      <td>Joss Whedon</td>\n",
       "      <td>623357910.0</td>\n",
       "    </tr>\n",
       "    <tr>\n",
       "      <td>4840</td>\n",
       "      <td>Christopher Nolan</td>\n",
       "      <td>534858444.0</td>\n",
       "    </tr>\n",
       "    <tr>\n",
       "      <td>6614</td>\n",
       "      <td>Gareth Edwards</td>\n",
       "      <td>532177324.0</td>\n",
       "    </tr>\n",
       "    <tr>\n",
       "      <td>6687</td>\n",
       "      <td>Andrew Stanton</td>\n",
       "      <td>486295561.0</td>\n",
       "    </tr>\n",
       "    <tr>\n",
       "      <td>2870</td>\n",
       "      <td>George Lucas</td>\n",
       "      <td>474544677.0</td>\n",
       "    </tr>\n",
       "    <tr>\n",
       "      <td>6398</td>\n",
       "      <td>Joss Whedon</td>\n",
       "      <td>459005868.0</td>\n",
       "    </tr>\n",
       "  </tbody>\n",
       "</table>\n",
       "</div>"
      ],
      "text/plain": [
       "               director       profit\n",
       "6380        J.J. Abrams  936662225.0\n",
       "5061      James Cameron  760507625.0\n",
       "2420      James Cameron  658672302.0\n",
       "6391    Colin Trevorrow  652270625.0\n",
       "5723        Joss Whedon  623357910.0\n",
       "4840  Christopher Nolan  534858444.0\n",
       "6614     Gareth Edwards  532177324.0\n",
       "6687     Andrew Stanton  486295561.0\n",
       "2870       George Lucas  474544677.0\n",
       "6398        Joss Whedon  459005868.0"
      ]
     },
     "execution_count": 89,
     "metadata": {},
     "output_type": "execute_result"
    }
   ],
   "source": [
    "# check to see who directored the highest grossing movies and print the top 10.\n",
    "d_p10 = Top_movies[['director','profit']]\n",
    "d_p10.head(10)"
   ]
  },
  {
   "cell_type": "code",
   "execution_count": null,
   "metadata": {},
   "outputs": [],
   "source": [
    "#Out of the top 10 movies sorted by profit, check to see if anyone appears more than once."
   ]
  },
  {
   "cell_type": "code",
   "execution_count": 124,
   "metadata": {},
   "outputs": [
    {
     "data": {
      "text/plain": [
       "Joss Whedon          2\n",
       "James Cameron        2\n",
       "Colin Trevorrow      1\n",
       "Andrew Stanton       1\n",
       "George Lucas         1\n",
       "Christopher Nolan    1\n",
       "J.J. Abrams          1\n",
       "Gareth Edwards       1\n",
       "Name: director, dtype: int64"
      ]
     },
     "execution_count": 124,
     "metadata": {},
     "output_type": "execute_result"
    }
   ],
   "source": [
    "Top_dir = d_p10.head(10)\n",
    "Top_dir['director'].value_counts(ascending=False)"
   ]
  },
  {
   "cell_type": "code",
   "execution_count": null,
   "metadata": {},
   "outputs": [],
   "source": [
    "#make a bar graph to show the profit of these directors."
   ]
  },
  {
   "cell_type": "code",
   "execution_count": 221,
   "metadata": {},
   "outputs": [
    {
     "data": {
      "image/png": "[encoded data removed]",
      "text/plain": [
       "<Figure size 1080x360 with 1 Axes>"
      ]
     },
     "metadata": {
      "needs_background": "light"
     },
     "output_type": "display_data"
    }
   ],
   "source": [
    "sns.catplot(x='profit', y = 'director', data=Top_dir , kind = 'bar', aspect = 3);"
   ]
  },
  {
   "cell_type": "markdown",
   "metadata": {},
   "source": [
    "Great, now we know which directors to hire if we want to make a hit movie."
   ]
  },
  {
   "cell_type": "markdown",
   "metadata": {},
   "source": [
    "# Top 100 movies and the money they made by genre."
   ]
  },
  {
   "cell_type": "code",
   "execution_count": 206,
   "metadata": {},
   "outputs": [
    {
     "data": {
      "text/plain": [
       "Comedy       2080\n",
       "Drama        1444\n",
       "Action       1331\n",
       "Crime         522\n",
       "Adventure     392\n",
       "Biography     359\n",
       "Animation     277\n",
       "Horror        277\n",
       "Mystery        38\n",
       "Fantasy        32\n",
       "Thriller       18\n",
       "Romance        15\n",
       "Family         14\n",
       "Sci-Fi         13\n",
       "Musical         4\n",
       "Western         2\n",
       "War             2\n",
       "Name: genre, dtype: int64"
      ]
     },
     "execution_count": 206,
     "metadata": {},
     "output_type": "execute_result"
    }
   ],
   "source": [
    "#Check to see which genre's are the most profitable.\n",
    "movies['genre'].value_counts()"
   ]
  },
  {
   "cell_type": "code",
   "execution_count": null,
   "metadata": {},
   "outputs": [],
   "source": [
    "#There are a lot more comedy movies than anything!"
   ]
  },
  {
   "cell_type": "code",
   "execution_count": null,
   "metadata": {},
   "outputs": [],
   "source": [
    "#Create a graph to show profitablity by genre."
   ]
  },
  {
   "cell_type": "code",
   "execution_count": 204,
   "metadata": {},
   "outputs": [
    {
     "data": {
      "image/png": "[encoded data removed]",
      "text/plain": [
       "<Figure size 1080x360 with 1 Axes>"
      ]
     },
     "metadata": {
      "needs_background": "light"
     },
     "output_type": "display_data"
    }
   ],
   "source": [
    "sns.catplot(x='genre', y='profit', data=movies, kind='bar', aspect=3 );\n",
    "# animation movies make the most profit"
   ]
  },
  {
   "cell_type": "code",
   "execution_count": 364,
   "metadata": {},
   "outputs": [],
   "source": [
    "#Checking money spent to make each movie"
   ]
  },
  {
   "cell_type": "code",
   "execution_count": 203,
   "metadata": {},
   "outputs": [
    {
     "data": {
      "image/png": "[encoded data removed]",
      "text/plain": [
       "<Figure size 1080x360 with 1 Axes>"
      ]
     },
     "metadata": {
      "needs_background": "light"
     },
     "output_type": "display_data"
    }
   ],
   "source": [
    "sns.catplot(x='genre', y='budget', data=movies, kind='bar', aspect=3 );\n",
    "#animation movies cost the most money to make."
   ]
  },
  {
   "cell_type": "code",
   "execution_count": 13,
   "metadata": {},
   "outputs": [],
   "source": [
    "#Filtering top movies to top 100 movies and graphing those based on genre and profit"
   ]
  },
  {
   "cell_type": "code",
   "execution_count": 207,
   "metadata": {},
   "outputs": [],
   "source": [
    "Top_100 = Top_movies.nlargest(100, columns='profit')\n"
   ]
  },
  {
   "cell_type": "code",
   "execution_count": 209,
   "metadata": {},
   "outputs": [
    {
     "data": {
      "image/png": "[encoded data removed]",
      "text/plain": [
       "<Figure size 1080x360 with 1 Axes>"
      ]
     },
     "metadata": {
      "needs_background": "light"
     },
     "output_type": "display_data"
    }
   ],
   "source": [
    "sns.catplot(x='genre', y='profit', data=Top_100, kind='bar',  aspect=3 );"
   ]
  },
  {
   "cell_type": "code",
   "execution_count": 15,
   "metadata": {},
   "outputs": [],
   "source": [
    "# I wanted to check if there was a relationship to the year the movie was made and the money spent on making it.¶"
   ]
  },
  {
   "cell_type": "code",
   "execution_count": 186,
   "metadata": {},
   "outputs": [
    {
     "data": {
      "image/png": "[encoded data removed]",
      "text/plain": [
       "<Figure size 432x288 with 1 Axes>"
      ]
     },
     "metadata": {
      "needs_background": "light"
     },
     "output_type": "display_data"
    }
   ],
   "source": [
    "sns.pointplot(x='year', y='budget', data=movies, aspect = 3); #william adams"
   ]
  },
  {
   "cell_type": "code",
   "execution_count": null,
   "metadata": {},
   "outputs": [],
   "source": [
    "# there is an upward trend in the data indicating that more money is being spent on movies as the years increase."
   ]
  },
  {
   "cell_type": "code",
   "execution_count": null,
   "metadata": {},
   "outputs": [],
   "source": [
    "#I also checked to see if there was a correlation between the year and profit."
   ]
  },
  {
   "cell_type": "code",
   "execution_count": 193,
   "metadata": {},
   "outputs": [
    {
     "data": {
      "image/png": "[encoded data removed]",
      "text/plain": [
       "<Figure size 432x288 with 1 Axes>"
      ]
     },
     "metadata": {
      "needs_background": "light"
     },
     "output_type": "display_data"
    }
   ],
   "source": [
    "sns.pointplot(x='year', y='profit', data = movies, aspect = 3);#william adams"
   ]
  },
  {
   "cell_type": "code",
   "execution_count": null,
   "metadata": {},
   "outputs": [],
   "source": [
    "#the more money that you spend the more money you will make but you assume more risk."
   ]
  },
  {
   "cell_type": "markdown",
   "metadata": {},
   "source": [
    "# Movie Rating"
   ]
  },
  {
   "cell_type": "code",
   "execution_count": 16,
   "metadata": {},
   "outputs": [],
   "source": [
    "# It looks like on average PG-13 movies do the best but rated R movies are made the most.¶"
   ]
  },
  {
   "cell_type": "code",
   "execution_count": 202,
   "metadata": {},
   "outputs": [
    {
     "data": {
      "text/plain": [
       "R                3392\n",
       "PG-13            1995\n",
       "PG                951\n",
       "NOT RATED         174\n",
       "G                 147\n",
       "UNRATED            71\n",
       "Not specified      63\n",
       "NC-17              22\n",
       "TV-PG               1\n",
       "B                   1\n",
       "TV-14               1\n",
       "B15                 1\n",
       "TV-MA               1\n",
       "Name: rating, dtype: int64"
      ]
     },
     "execution_count": 202,
     "metadata": {},
     "output_type": "execute_result"
    }
   ],
   "source": [
    "movies['rating'].value_counts()"
   ]
  },
  {
   "cell_type": "code",
   "execution_count": 225,
   "metadata": {},
   "outputs": [
    {
     "data": {
      "image/png": "[encoded data removed]",
      "text/plain": [
       "<Figure size 432x288 with 1 Axes>"
      ]
     },
     "metadata": {
      "needs_background": "light"
     },
     "output_type": "display_data"
    }
   ],
   "source": [
    "#there are more R rated movies than anything else\n",
    "sns.countplot(x= 'rating', data=movies, hue='rating');"
   ]
  },
  {
   "cell_type": "code",
   "execution_count": 232,
   "metadata": {},
   "outputs": [
    {
     "data": {
      "image/png": "[encoded data removed]",
      "text/plain": [
       "<Figure size 1146x360 with 1 Axes>"
      ]
     },
     "metadata": {
      "needs_background": "light"
     },
     "output_type": "display_data"
    }
   ],
   "source": [
    "#graph the ratings and profit of the top 100 movies\n",
    "sns.catplot(x='profit', y = 'rating', data=Top_movies, hue='rating', kind='bar', aspect=3);\n"
   ]
  },
  {
   "cell_type": "code",
   "execution_count": 108,
   "metadata": {},
   "outputs": [],
   "source": [
    "# Here is the competition."
   ]
  },
  {
   "cell_type": "code",
   "execution_count": 92,
   "metadata": {},
   "outputs": [
    {
     "data": {
      "image/png": "[encoded data removed]",
      "text/plain": [
       "<Figure size 1167x360 with 1 Axes>"
      ]
     },
     "metadata": {
      "needs_background": "light"
     },
     "output_type": "display_data"
    }
   ],
   "source": [
    "sns.catplot(x='company', y='profit', data=Top_10, hue='genre', kind='bar', aspect=3);"
   ]
  },
  {
   "cell_type": "code",
   "execution_count": null,
   "metadata": {},
   "outputs": [],
   "source": [
    "# Findings:\n",
    "# Genre: Animation, Action, Adventure \n",
    "# Length: ~110 minutes\n",
    "# Director: Peter Jackson \n",
    "# Rating: PG-13. \n",
    "# Competition: Lucasfilm, 20th Century Fox, Universal, and Marvel.\n",
    "# The data also suggests that the higher the budget gets over the years, so too does the profits from movies\n"
   ]
  }
 ],
 "metadata": {
  "kernelspec": {
   "display_name": "Python 3",
   "language": "python",
   "name": "python3"
  },
  "language_info": {
   "codemirror_mode": {
    "name": "ipython",
    "version": 3
   },
   "file_extension": ".py",
   "mimetype": "text/x-python",
   "name": "python",
   "nbconvert_exporter": "python",
   "pygments_lexer": "ipython3",
   "version": "3.7.4"
  }
 },
 "nbformat": 4,
 "nbformat_minor": 2
}
